{
  "nbformat": 4,
  "nbformat_minor": 0,
  "metadata": {
    "colab": {
      "name": "OOPs  Basic Concepts.ipynb",
      "provenance": [],
      "collapsed_sections": []
    },
    "kernelspec": {
      "name": "python3",
      "display_name": "Python 3"
    },
    "language_info": {
      "name": "python"
    }
  },
  "cells": [
    {
      "cell_type": "markdown",
      "metadata": {
        "id": "7IaiuL3Xo2jb"
      },
      "source": [
        "**What is Class?**"
      ]
    },
    {
      "cell_type": "markdown",
      "metadata": {
        "id": "y-wS9rMzo_XP"
      },
      "source": [
        "A class is classification of an object or classification of real world entity."
      ]
    },
    {
      "cell_type": "markdown",
      "metadata": {
        "id": "h-vi9k8EpKFL"
      },
      "source": [
        "**What is an object?**"
      ]
    },
    {
      "cell_type": "markdown",
      "metadata": {
        "id": "47Kx7jl1pKHh"
      },
      "source": [
        "An object is an instance or variable of the class."
      ]
    },
    {
      "cell_type": "code",
      "metadata": {
        "id": "brNI7uKlgwPo"
      },
      "source": [
        "#class without a variable\n",
        "\n",
        "class test:\n",
        "  pass"
      ],
      "execution_count": null,
      "outputs": []
    },
    {
      "cell_type": "code",
      "metadata": {
        "colab": {
          "base_uri": "https://localhost:8080/"
        },
        "id": "1wzRiVCiqQ2j",
        "outputId": "511c3685-b5d4-4ceb-9bc8-864ddf27e7cb"
      },
      "source": [
        "#variable of a class\n",
        "\n",
        "a=test()\n",
        "print(type(a))\n",
        "#a is an object"
      ],
      "execution_count": null,
      "outputs": [
        {
          "output_type": "stream",
          "text": [
            "<class '__main__.test'>\n"
          ],
          "name": "stdout"
        }
      ]
    },
    {
      "cell_type": "code",
      "metadata": {
        "id": "E4p5_Up_qyhf"
      },
      "source": [
        "#Example of a class\n",
        "\n",
        "class person:\n",
        "  def __init__(self,name,surname,birth_year):\n",
        "    self.name=name\n",
        "    self.surname=surname\n",
        "    self.birth_year=birth_year\n",
        "\n",
        "#__init__ function is used to initialize the value of the variable of a class.\n",
        "#__init__ function is in-built function\n",
        "#By using self keyword, we can access all the instances of the class. \n",
        "#self is the pointer\n",
        "#__init__=Initialization method"
      ],
      "execution_count": null,
      "outputs": []
    },
    {
      "cell_type": "code",
      "metadata": {
        "colab": {
          "base_uri": "https://localhost:8080/",
          "height": 35
        },
        "id": "Qw1YF-ucqykG",
        "outputId": "14b3b7d2-4819-42d0-e1bf-fc2b8be54e19"
      },
      "source": [
        "a=person('Bhaswati','Sahu',1994)\n",
        "a.name\n",
        "\n",
        "#self.name -It is understood by the class.\n",
        "#self.name and name are not similar\n",
        "# a is the pointer"
      ],
      "execution_count": null,
      "outputs": [
        {
          "output_type": "execute_result",
          "data": {
            "application/vnd.google.colaboratory.intrinsic+json": {
              "type": "string"
            },
            "text/plain": [
              "'Bhaswati'"
            ]
          },
          "metadata": {
            "tags": []
          },
          "execution_count": 4
        }
      ]
    },
    {
      "cell_type": "code",
      "metadata": {
        "colab": {
          "base_uri": "https://localhost:8080/"
        },
        "id": "f0RdXvtJqym5",
        "outputId": "bf2e827d-84c5-43f3-e5fe-891fa9e0d931"
      },
      "source": [
        "#2nd method\n",
        "\n",
        "class person:\n",
        "  pass\n",
        "b=person()  \n",
        "b.name='Bhaswati'\n",
        "b.surname='Sahu'\n",
        "b.age=26  \n",
        "\n",
        "print('%s %s is %d year old.'%(b.name,b.surname,b.age))"
      ],
      "execution_count": null,
      "outputs": [
        {
          "output_type": "stream",
          "text": [
            "Bhaswati Sahu is 26 year old.\n"
          ],
          "name": "stdout"
        }
      ]
    },
    {
      "cell_type": "code",
      "metadata": {
        "colab": {
          "base_uri": "https://localhost:8080/"
        },
        "id": "UtmxaiVluptM",
        "outputId": "1de774a4-0213-4e70-8f3d-c77b0fc3c7d7"
      },
      "source": [
        "class person:\n",
        "  def __init__(a,name,surname,birth_year):\n",
        "    a.name=name\n",
        "    a.surname=surname\n",
        "    a.birth_year=birth_year\n",
        "  \n",
        "  def age(a,current_year):\n",
        "    return current_year - a.birth_year\n",
        "\n",
        "  def concatlist(b,lst1,lst2):\n",
        "    return lst1+lst2  \n",
        "\n",
        "  def __str__(a):\n",
        "    return \"%s %s was born in %d.\"%(a.name,a.surname,a.birth_year)     \n",
        "    #__str__ is an inbuilt function. It returns the string representation of the object.\n",
        "    #first variable should always behave like a pointer.\n",
        "    #it deosn't matter if we are using a same /diffent pointer.\n",
        "\n",
        "my_name=person('Bhaswati','Sahu',1994)\n",
        "print(my_name)\n",
        "print(my_name.age(2021))\n",
        "print(my_name.concatlist([1,2,3,4],[5,6,7,8]))\n",
        "\n",
        "#my_name is the object"
      ],
      "execution_count": null,
      "outputs": [
        {
          "output_type": "stream",
          "text": [
            "Bhaswati Sahu was born in 1994.\n",
            "27\n",
            "[1, 2, 3, 4, 5, 6, 7, 8]\n"
          ],
          "name": "stdout"
        }
      ]
    },
    {
      "cell_type": "markdown",
      "metadata": {
        "id": "VRA3YJzipKK3"
      },
      "source": [
        "**Concept**"
      ]
    },
    {
      "cell_type": "markdown",
      "metadata": {
        "id": "kkTf9kbl3aCb"
      },
      "source": [
        "\n",
        "In case we have more than one __init__ function, then the last one will be implemented.\n",
        "\n"
      ]
    },
    {
      "cell_type": "code",
      "metadata": {
        "id": "WLPwaryD1eDx",
        "colab": {
          "base_uri": "https://localhost:8080/",
          "height": 235
        },
        "outputId": "67e68bb7-ed11-4d02-e0a7-b50694235ed1"
      },
      "source": [
        "#example:\n",
        "\n",
        "class person:\n",
        "  def __init__(a,name,surname,birth_year):\n",
        "    a.name=name\n",
        "    a.surname=surname\n",
        "    a.birth_year=birth_year\n",
        "\n",
        "  def __init__(a,name,surname):\n",
        "    a.name=name\n",
        "    a.surname=surname\n",
        "\n",
        "  def __init__(a,name):\n",
        "    a.name=name\n",
        "\n",
        "test=person()\n",
        "print(test)\n",
        "\n",
        "#From the typeerror we understand that the function asks for only 1 arguement which is name."
      ],
      "execution_count": null,
      "outputs": [
        {
          "output_type": "error",
          "ename": "TypeError",
          "evalue": "ignored",
          "traceback": [
            "\u001b[0;31m---------------------------------------------------------------------------\u001b[0m",
            "\u001b[0;31mTypeError\u001b[0m                                 Traceback (most recent call last)",
            "\u001b[0;32m<ipython-input-7-036ddf710156>\u001b[0m in \u001b[0;36m<module>\u001b[0;34m()\u001b[0m\n\u001b[1;32m     14\u001b[0m     \u001b[0ma\u001b[0m\u001b[0;34m.\u001b[0m\u001b[0mname\u001b[0m\u001b[0;34m=\u001b[0m\u001b[0mname\u001b[0m\u001b[0;34m\u001b[0m\u001b[0;34m\u001b[0m\u001b[0m\n\u001b[1;32m     15\u001b[0m \u001b[0;34m\u001b[0m\u001b[0m\n\u001b[0;32m---> 16\u001b[0;31m \u001b[0mtest\u001b[0m\u001b[0;34m=\u001b[0m\u001b[0mperson\u001b[0m\u001b[0;34m(\u001b[0m\u001b[0;34m)\u001b[0m\u001b[0;34m\u001b[0m\u001b[0;34m\u001b[0m\u001b[0m\n\u001b[0m\u001b[1;32m     17\u001b[0m \u001b[0mprint\u001b[0m\u001b[0;34m(\u001b[0m\u001b[0mtest\u001b[0m\u001b[0;34m)\u001b[0m\u001b[0;34m\u001b[0m\u001b[0;34m\u001b[0m\u001b[0m\n\u001b[1;32m     18\u001b[0m \u001b[0;34m\u001b[0m\u001b[0m\n",
            "\u001b[0;31mTypeError\u001b[0m: __init__() missing 1 required positional argument: 'name'"
          ]
        }
      ]
    },
    {
      "cell_type": "code",
      "metadata": {
        "id": "FWrWNIjS1eHC"
      },
      "source": [
        "class person:\n",
        "  def set_name(self,name):\n",
        "    self.name=name\n",
        "  def set_surname(self,surname):\n",
        "    self.surname=surname\n",
        "  def set_birth_year(self,birth_year):\n",
        "    self.birth_year=birth_year\n",
        "  def age(self,current_year):\n",
        "    return current_year - self.birth_year\n",
        "  def __str__(self):\n",
        "    return \"%s %s was born in %d.\"%(self.name,self.surname,self.birth_year)      \n",
        "\n",
        "test=person()\n",
        "test.set_name('Jenny')\n",
        "print(test.name)\n",
        "\n",
        "test=person()\n",
        "test.set_surname('Sahu')\n",
        "print(test.surname)\n"
      ],
      "execution_count": null,
      "outputs": []
    },
    {
      "cell_type": "markdown",
      "metadata": {
        "id": "3mf2_Z7UwKbi"
      },
      "source": [
        "**Public Class:** The instance can be accessible from everywhere. (variable)\n",
        "\n",
        "**Protected Class:** The instance can be accessbile inside the class, outside the class but not outside the program.(_variable)\n",
        "\n",
        "**Private Class:** The instance can be accessible inside the class but not outside the class.(__variable)"
      ]
    },
    {
      "cell_type": "markdown",
      "metadata": {
        "id": "XhahuM7Y-Avo"
      },
      "source": [
        "1.**Public Class** (variable)**bold text**"
      ]
    },
    {
      "cell_type": "code",
      "metadata": {
        "id": "WrIQS2WY1eWA"
      },
      "source": [
        "class public:\n",
        "  def __init__(self,name,surname,birth_year):\n",
        "    self.name=name\n",
        "    self.surname=surname\n",
        "    self.birth_year=birth_year\n",
        "\n",
        "  def age(self,current_year):\n",
        "    return current_year - self.birth_year\n",
        "\n",
        "  def __str__(self):\n",
        "    return \"%s %s was born in %d.\"%(self.name,self.surname,self.birth_year)    \n",
        "\n",
        "test=public('Bhaswati','Sahu',1994)\n",
        "print(test)\n",
        "print(test.name)    "
      ],
      "execution_count": null,
      "outputs": []
    },
    {
      "cell_type": "markdown",
      "metadata": {
        "id": "2znzvsWf-AzL"
      },
      "source": [
        "2.**Protected Class**(_variable)"
      ]
    },
    {
      "cell_type": "code",
      "metadata": {
        "id": "k-Ne7aDb1eZR"
      },
      "source": [
        "class protected:\n",
        "  def __init__(self,name,surname,birth_year):\n",
        "    self._name=name\n",
        "    self._surname=surname\n",
        "    self._birth_year=birth_year\n",
        "\n",
        "  def age(self,current_year):\n",
        "    return current_year - self._birth_year\n",
        "\n",
        "  def __str__(self):\n",
        "    return \"%s %s was born in %d.\"%(self._name,self._surname,self._birth_year)  \n",
        "\n",
        "test=protected('Bhaswati','Sahu',1994)\n",
        "print(test)\n",
        "print(test._name)\n",
        "test.__dict__"
      ],
      "execution_count": null,
      "outputs": []
    },
    {
      "cell_type": "markdown",
      "metadata": {
        "id": "N_HhJeKb_Mss"
      },
      "source": [
        "**Private Class**(__variable)"
      ]
    },
    {
      "cell_type": "code",
      "metadata": {
        "id": "fXaY8kvL_NGn"
      },
      "source": [
        "class private:\n",
        "  def __init__(self,name,surname,birth_year):\n",
        "    self.__name=name\n",
        "    self.__surname=surname\n",
        "    self.__birth_year=birth_year\n",
        "\n",
        "  def age(self,current_year):\n",
        "    return current_year - self.__birth_year\n",
        "\n",
        "  def __str__(self):\n",
        "    return \"%s %s was born in %d.\"%(self.__name,self.__surname,self.__birth_year)   \n",
        "\n",
        "test=private('Bhaswati','Sahu',1994)\n",
        "#print(test)\n",
        "#print(test.__name) \n",
        "test.__dict__"
      ],
      "execution_count": null,
      "outputs": []
    },
    {
      "cell_type": "code",
      "metadata": {
        "id": "GFOgF4ecDDlj"
      },
      "source": [
        "test._private__name"
      ],
      "execution_count": null,
      "outputs": []
    },
    {
      "cell_type": "markdown",
      "metadata": {
        "id": "gzkb59IADiQL"
      },
      "source": [
        "In a single class we can create public, protected and private variables."
      ]
    },
    {
      "cell_type": "code",
      "metadata": {
        "id": "cepOr9JIClZS"
      },
      "source": [
        "class pub_pro_pri:\n",
        "  def __init__(self,name,surname,birth_year):\n",
        "    self.name=name\n",
        "    self._surname=surname\n",
        "    self.__birth_year=birth_year\n",
        "\n",
        "  def age(self,current_year):\n",
        "    return current_year - self.__birth_year\n",
        "\n",
        "  def __str__(self):\n",
        "    return \"%s %s was born in %d.\" %(self.name,self._surname,self.__birth_year)   \n",
        "\n",
        "test=pub_pro_pri('Bhaswti','Sahu',1994)\n",
        "print(test) \n",
        "test.__birth_year"
      ],
      "execution_count": null,
      "outputs": []
    },
    {
      "cell_type": "code",
      "metadata": {
        "id": "SlS6D1GdEabY"
      },
      "source": [
        "test.__dict__"
      ],
      "execution_count": null,
      "outputs": []
    },
    {
      "cell_type": "code",
      "metadata": {
        "id": "oum0t7XxClbp"
      },
      "source": [
        "test._pub_pro_pri__birth_year"
      ],
      "execution_count": null,
      "outputs": []
    },
    {
      "cell_type": "markdown",
      "metadata": {
        "id": "R5jmGib_Fzt1"
      },
      "source": [
        "Q. Write a code with public , private and protected method."
      ]
    },
    {
      "cell_type": "code",
      "metadata": {
        "id": "yagqHSspCleP"
      },
      "source": [
        "class xyz:\n",
        "  def __init__(self,a,b,c):\n",
        "    self.a=a\n",
        "    self.b=b\n",
        "    self.c=c\n",
        "\n",
        "  def test(self):\n",
        "    return \"This is a public method.\"\n",
        "\n",
        "  def _test1(self):\n",
        "    return \"This is protected method.\"\n",
        "\n",
        "  def __test2(self):\n",
        "    return \"This is a private method.\"\n",
        "\n",
        "obj=xyz(1,2,3)          \n",
        "print(obj.test())\n",
        "print(obj._test1())\n",
        "print(obj._xyz__test2())"
      ],
      "execution_count": null,
      "outputs": []
    },
    {
      "cell_type": "markdown",
      "metadata": {
        "id": "P2z-RyKvZmfj"
      },
      "source": [
        "**Inheritance**"
      ]
    },
    {
      "cell_type": "markdown",
      "metadata": {
        "id": "NqVGcMrEBeSc"
      },
      "source": [
        "1.Multilabel Inheritance"
      ]
    },
    {
      "cell_type": "code",
      "metadata": {
        "id": "aut79GoFClhT"
      },
      "source": [
        "#parent class\n",
        "class xyz:\n",
        "  def __init__(self,a,b):\n",
        "    self.a=a\n",
        "    self.b=b\n",
        "    self.c=c\n",
        "\n",
        "  def test(self):\n",
        "    return \"This is public method.\"\n",
        "\n",
        "obj=xyz(4,5,6)\n",
        "obj.test()"
      ],
      "execution_count": null,
      "outputs": []
    },
    {
      "cell_type": "code",
      "metadata": {
        "id": "5Bd_SFA8ClkH"
      },
      "source": [
        "#child class\n",
        "class abc(xyz):\n",
        "  pass\n",
        "\n",
        "obj1=abc(1,2,3)\n",
        "obj1.test()  "
      ],
      "execution_count": null,
      "outputs": []
    },
    {
      "cell_type": "code",
      "metadata": {
        "id": "ire5nn11adrH"
      },
      "source": [
        ""
      ],
      "execution_count": null,
      "outputs": []
    },
    {
      "cell_type": "markdown",
      "metadata": {
        "id": "RxwFkQZWtiDz"
      },
      "source": [
        "**If we want to modify some variable from child class.**\n",
        "\n",
        "\n",
        "\n",
        "\n",
        "\n",
        "\n",
        "\n",
        "\n"
      ]
    },
    {
      "cell_type": "code",
      "metadata": {
        "id": "EO6-eX7Eadtj"
      },
      "source": [
        "class abc(xyz):\n",
        "  def __init__(self,a,b):\n",
        "    xyz.__init__(self,a,b)\n",
        "\n",
        "obj2=abc()\n",
        "print(obj2)\n",
        "\n",
        "#Now its asking for only two variables a and b."
      ],
      "execution_count": null,
      "outputs": []
    },
    {
      "cell_type": "markdown",
      "metadata": {
        "id": "FeeV0LO1vIIC"
      },
      "source": [
        "If we want to add additional variables."
      ]
    },
    {
      "cell_type": "code",
      "metadata": {
        "id": "DdaRfaWTadwC"
      },
      "source": [
        "class abc(xyz):\n",
        "  def __init__(self,a,b,d,n):\n",
        "    xyz.__init__(self,a,b)\n",
        "    self.d=d\n",
        "    self.n=n\n",
        "\n",
        "obj3=abc()\n",
        "print(obj3)\n",
        "\n",
        "#We can see that it is looking for 4 variables."
      ],
      "execution_count": null,
      "outputs": []
    },
    {
      "cell_type": "code",
      "metadata": {
        "id": "lTWn4Sakadye"
      },
      "source": [
        "obj3=abc('Bhaswati','Sahu',5,6)\n",
        "obj3.d\n",
        "print(obj3.test())"
      ],
      "execution_count": null,
      "outputs": []
    },
    {
      "cell_type": "markdown",
      "metadata": {
        "id": "nsrI1VbR6Ua6"
      },
      "source": [
        "**Super()** - It helps the child class to inherit properties of parent class."
      ]
    },
    {
      "cell_type": "code",
      "metadata": {
        "id": "KLXmDVc5ad02"
      },
      "source": [
        "class abc(xyz):\n",
        "  def __init__(self,a,b,d,n):\n",
        "    super().__init__(self,a,b)\n",
        "    self.d=d\n",
        "    self.n=n\n",
        "\n",
        "#If we are mentioning the value on super class, it will not allow to access the dataset but access the object only."
      ],
      "execution_count": null,
      "outputs": []
    },
    {
      "cell_type": "code",
      "metadata": {
        "id": "nvkA2Vyfad3d"
      },
      "source": [
        "obj3=abc('Bhaswati','Sahu',5,6)\n",
        "print(obj3.a)\n",
        "print(obj3.d)"
      ],
      "execution_count": null,
      "outputs": []
    },
    {
      "cell_type": "code",
      "metadata": {
        "id": "Jvbq936pad66"
      },
      "source": [
        "class abc(xyz):\n",
        "  def __init__(self,a,b,d,n):\n",
        "    super().__init__(self,a,b)\n",
        "    self.d=d\n",
        "    self.n=n\n",
        "    self.a=a\n",
        "    self.b=b\n",
        "\n",
        "#to access the dataset, we have to declare self.a    "
      ],
      "execution_count": null,
      "outputs": []
    },
    {
      "cell_type": "code",
      "metadata": {
        "id": "uUhpa8v47R6-"
      },
      "source": [
        "obj3=abc('Bhaswati','Sahu',5,6)\n",
        "print(obj3.a)"
      ],
      "execution_count": null,
      "outputs": []
    },
    {
      "cell_type": "code",
      "metadata": {
        "id": "RwciaCVI7R9f"
      },
      "source": [
        "class abc(xyz):\n",
        "  def __init__(self,*args):\n",
        "    super(abc,self).__init__(*args)\n",
        "\n",
        "obj3=abc('Bhaswati','Sahu')\n",
        "print(obj3.a)\n",
        "\n",
        "#*kwargs=for disctionary objects"
      ],
      "execution_count": null,
      "outputs": []
    },
    {
      "cell_type": "code",
      "metadata": {
        "id": "lDIfzBeN7SAD"
      },
      "source": [
        "isinstance(obj3,xyz)  #It means obj3 is an instance of xyz"
      ],
      "execution_count": null,
      "outputs": []
    },
    {
      "cell_type": "markdown",
      "metadata": {
        "id": "0zzZGgjZO-OQ"
      },
      "source": [
        "2.Multiple Inheritance"
      ]
    },
    {
      "cell_type": "code",
      "metadata": {
        "id": "5FurZiIhPK9p"
      },
      "source": [
        "class A:\n",
        "  def test(self):\n",
        "    return \"This is class A.\"\n",
        "class B:\n",
        "  def test(self):\n",
        "    return \"This is class B.\"\n",
        "class C(A,B):\n",
        "  pass\n",
        " \n",
        "obj=C()\n",
        "obj.test()\n",
        "\n",
        "#It always takes the 1st class for example C(A,B), it will take the method of A first, in case of C(B,A), it will atke the method of B first."
      ],
      "execution_count": null,
      "outputs": []
    },
    {
      "cell_type": "markdown",
      "metadata": {
        "id": "fhUYpUUwREh7"
      },
      "source": [
        "Create 3 classes with different methods. such a A, B, C where B should inherit A and C should inherit B."
      ]
    },
    {
      "cell_type": "code",
      "metadata": {
        "id": "UAodDHGt7SB6"
      },
      "source": [
        "class A:\n",
        "  def test(self):\n",
        "    return \"Class A method.\"\n",
        "\n",
        "class B(A):\n",
        "  def test1(self):\n",
        "    return \"Class B method.\"\n",
        "\n",
        "class C(B):\n",
        "  def test2(self):\n",
        "    return \"Class C method.\"\n",
        "\n",
        "obj=C()\n",
        "obj.test()   \n",
        "\n",
        "#We can see that through C we inherited A."
      ],
      "execution_count": null,
      "outputs": []
    },
    {
      "cell_type": "markdown",
      "metadata": {
        "id": "OmLrJc34SZ6I"
      },
      "source": [
        "**Method Overriding**\n",
        "\n",
        "Inheritance allows to add new methods to the subclass. \n",
        "\n",
        "In Python method overriding occurs by simply defining in the child class a method with the same name of a method in the parent class."
      ]
    },
    {
      "cell_type": "code",
      "metadata": {
        "id": "FEYwV2w97SEm"
      },
      "source": [
        "class A:\n",
        "  def test(self):\n",
        "    return \"Method A.\"\n",
        "\n",
        "class B(A):\n",
        "  def test(self):\n",
        "    return \"Method B\"\n",
        "\n",
        "obj=B()\n",
        "obj.test()"
      ],
      "execution_count": null,
      "outputs": []
    },
    {
      "cell_type": "markdown",
      "metadata": {
        "id": "li3xAD0Eb53r"
      },
      "source": [
        "**Encapsulation**\n",
        "\n",
        " To hide the implementation of an actual method. There are two types of encapsulation:\n",
        "\n",
        " 1.Composition\n",
        " \n",
        " 2.Dynamic Extension\n"
      ]
    },
    {
      "cell_type": "markdown",
      "metadata": {
        "id": "f-T6R1YHmiJO"
      },
      "source": [
        "**`Composition`**\n",
        "Passing all the variables as object is called as Composition.\n",
        "\n",
        "Example:\n",
        "\n",
        "t=Tyres('Pirelli',True,2.0)\n",
        "\n",
        "e=Engine('Diesel',3)\n",
        "\n",
        "b=Body('Medium')\n",
        "\n",
        "c=Car(t,e,b)"
      ]
    },
    {
      "cell_type": "code",
      "metadata": {
        "id": "WQG3VuGWV1GA"
      },
      "source": [
        "class Tyres:\n",
        "  def __init__(self,branch,belted_bias,opt_pressure):\n",
        "    self.branch=branch\n",
        "    self.belted_bias=belted_bias\n",
        "    self.opt_pressure=opt_pressure\n",
        "\n",
        "  def __str__(self):\n",
        "    return (\"Tyres: \\n \\tBranch: \"+self.branch+\n",
        "            \"\\n \\tBelted Bias: \"+str(self.belted_bias)+\n",
        "            \"\\n \\tOptimum Pressure: \"+str(self.opt_pressure))  \n",
        "    \n",
        "class Engine:\n",
        "  def __init__(self,fuel_type,noise_level):\n",
        "    self.fuel_type=fuel_type\n",
        "    self.noise_level=str(noise_level)\n",
        "\n",
        "  def __str__(self):\n",
        "    return (\"Engine: \\n \\tFuel Type: \"+self.fuel_type+\n",
        "            \"\\n \\tNoise Level: \"+str(self.noise_level))\n",
        "\n",
        "class Body:\n",
        "  def __init__(self,size):\n",
        "    self.size=size\n",
        "\n",
        "  def __str__(self):\n",
        "    return (\"Body: \\n \\tSize: \"+self.size)     \n",
        "\n",
        "class Car:\n",
        "  def __init__(self,tyres,engine,body):\n",
        "    self.tyres=tyres\n",
        "    self.engine=engine\n",
        "    self.body=body\n",
        "\n",
        "  def __str__(self):\n",
        "    return (str(self.tyres)+\"\\n\"+str(self.engine)+\"\\n\"+str(self.body))        \n",
        "\n",
        "t=Tyres('Pirelli',True,2.0)\n",
        "e=Engine('Diesel',3)\n",
        "b=Body('Medium')\n",
        "c=Car(t,e,b)\n",
        "print(c)         "
      ],
      "execution_count": null,
      "outputs": []
    },
    {
      "cell_type": "markdown",
      "metadata": {
        "id": "I43tESXpj4L6"
      },
      "source": [
        "**Encapsulation**\n",
        "The object will call an actual class implementation. This process is called as Encapsulation."
      ]
    },
    {
      "cell_type": "code",
      "metadata": {
        "id": "qb0AsKVykJC2"
      },
      "source": [
        "c=Car('Black','Petrol','SUV')\n",
        "print(c)"
      ],
      "execution_count": null,
      "outputs": []
    },
    {
      "cell_type": "code",
      "metadata": {
        "id": "KMe09Kk3kRFE"
      },
      "source": [
        "#Encapsulation\n",
        "\n",
        "c=Car(t,'Petrol','SUV')\n",
        "print(c)\n",
        "\n",
        "#We can see here the implementation of class Tyres by callig through the object 't'.This concept is called as Encapsulation."
      ],
      "execution_count": null,
      "outputs": []
    },
    {
      "cell_type": "markdown",
      "metadata": {
        "id": "O-ZlpspOmnL2"
      },
      "source": [
        "**Dynamic Extension**\n",
        "Passing a few variable as object but not all.\n",
        "\n",
        "c=Car(t,'Petrol','SUV')\n",
        "\n",
        "print(c)"
      ]
    },
    {
      "cell_type": "code",
      "metadata": {
        "id": "THPwkJt4mrAi"
      },
      "source": [
        "class Dog:\n",
        "  def __init__(self,name,birth_year,breed):\n",
        "    self._name=name\n",
        "    self._birth_year=birth_year\n",
        "    self._breed=breed\n",
        "  \n",
        "  def __str__(self):\n",
        "    return \"%s is a %s born in %d.\" %(self._name,self._breed,self._birth_year)\n",
        "\n",
        "d=Dog('Laika',2019,'Husky')\n",
        "print(d)"
      ],
      "execution_count": null,
      "outputs": []
    },
    {
      "cell_type": "code",
      "metadata": {
        "id": "cXj7E8L7mrDC"
      },
      "source": [
        "class Student:\n",
        "  def __init__(self,anagraphic,student_ID):\n",
        "    self._anagraphic=anagraphic\n",
        "    self._student_ID=student_ID\n",
        "\n",
        "  def __str__(self):\n",
        "    return (str(self._anagraphic)+\" Student ID: \"+str(self._student_ID))\n",
        "\n",
        "s1=Student('Jenny',2)\n",
        "s2=Student(d,1)\n",
        "print(s1)    \n",
        "print(s2)    "
      ],
      "execution_count": null,
      "outputs": []
    },
    {
      "cell_type": "code",
      "metadata": {
        "id": "IRYCUVPRmrFt"
      },
      "source": [
        "#Encapsulation Problem 3:\n",
        "\n",
        "class A:\n",
        "  def __init__(self,a1,a2,a3):\n",
        "    self.a1=a1\n",
        "    self.a2=a2\n",
        "    self.a3=a3\n",
        "\n",
        "  def m1(self):\n",
        "    return (str(self.a1)+\" + \"+str(self.a2)+\" + \"+str(self.a3))\n",
        "\n",
        "class B:\n",
        "  def __init__(self,b1,b2,b3):\n",
        "    self.b1=b1\n",
        "    self.b2=b2\n",
        "    self.b3=b3\n",
        "\n",
        "  def m2(self):\n",
        "    return (str(self.b1)+\" + \"+str(self.b2)+\" + \"+str(self.b3))\n",
        "\n",
        "class C:\n",
        "  def __init__(self,c1,c2,c3):\n",
        "    self.c1=c1\n",
        "    self.c2=c2\n",
        "    self.c3=c3\n",
        "\n",
        "  def m3(self):\n",
        "    return (str(self.c1)+\" + \"+str(self.c2)+\" + \"+str(self.c3))\n",
        "\n",
        "class D:\n",
        "  def __init__(self,d1,d2,d3):\n",
        "    self.d1=d1\n",
        "    self.d2=d2\n",
        "    self.d3=d3\n",
        "\n",
        "  def m4(self):\n",
        "    return (str(self.d1.m1())+\" + \"+str(self.d2.m2())+\" + \"+str(self.d3.m3()))    \n",
        "\n",
        "a=A(1,2,3)\n",
        "b=B(4,5,6)\n",
        "c=C(7,8,9)\n",
        "d=D(a,b,c)\n",
        "print(d.m4())\n"
      ],
      "execution_count": null,
      "outputs": []
    },
    {
      "cell_type": "markdown",
      "metadata": {
        "id": "dV-IJ80xWpa2"
      },
      "source": [
        "**Below code is a combination of Abstraction (public, private, protected) , Inheritance and Encapsulation**"
      ]
    },
    {
      "cell_type": "code",
      "metadata": {
        "id": "RAXneSKimrIW"
      },
      "source": [
        "#Example:\n",
        "\n",
        "class class1:\n",
        "  def __init__(self,a,b,c):\n",
        "    self.a=a\n",
        "    self._b=b\n",
        "    self.__c=c\n",
        "\n",
        "  def __str__(self):\n",
        "    return str(self.a) + str(self._b) + str(self._class1__c)\n",
        "\n",
        "obj=class1(1,2,3)\n",
        "print(obj)"
      ],
      "execution_count": null,
      "outputs": []
    },
    {
      "cell_type": "code",
      "metadata": {
        "id": "o3qQ_Y2_mrK1"
      },
      "source": [
        "class class2:\n",
        "  def __init__(self,a):\n",
        "    self.a=a\n",
        "\n",
        "  def __str__(self):\n",
        "    return str(self.a)\n",
        "\n",
        "obj2=class2(obj)\n",
        "print(obj2)"
      ],
      "execution_count": null,
      "outputs": []
    },
    {
      "cell_type": "code",
      "metadata": {
        "id": "3P3rNjPmmrOl"
      },
      "source": [
        "class class3(class1):\n",
        "  pass\n",
        "\n",
        "obj3=class3(5,6,7)\n",
        "print(obj3.a)\n",
        "print(obj3._b)\n",
        "#print(obj3.__c)\n",
        "print(obj3._class1__c)"
      ],
      "execution_count": null,
      "outputs": []
    },
    {
      "cell_type": "markdown",
      "metadata": {
        "id": "TQjHgpy_aKMl"
      },
      "source": [
        "**Polymorphism and Duck Typing**\n",
        "\n",
        "**Polymorphism:** \n",
        "The ability to use the same syntax for objects of different types is called as polymorphism.\n",
        "\n",
        "**Duck Typing**\n",
        "Python uses dynamic typing which is also called as Duck typing. If an object implements a method, you can use it irrespective of the type."
      ]
    },
    {
      "cell_type": "code",
      "metadata": {
        "id": "LS0eLgsYmrSe"
      },
      "source": [
        "def summ(a,b):\n",
        "  return a+b\n",
        "\n",
        "print(summ(1,1))   #sum of two numbers\n",
        "print(summ(['a','b','c','d'],['e','f','g'])) #list concatenation\n",
        "print(summ('abra','cadabara'))#string concatenation\n",
        "\n",
        "#Here we can observe that same function is behaving differently with different types of object, for example, in case of\n",
        "#1. int---->sum of elements 2. list---->concatenation of lists 3. string-----> concatenation of strings."
      ],
      "execution_count": null,
      "outputs": []
    },
    {
      "cell_type": "markdown",
      "metadata": {
        "id": "4vZ1FkCJeaNl"
      },
      "source": [
        "**File**"
      ]
    },
    {
      "cell_type": "markdown",
      "metadata": {
        "id": "0_ps11EEefcY"
      },
      "source": [
        "**IPython writing a file**"
      ]
    },
    {
      "cell_type": "code",
      "metadata": {
        "id": "29Asn54deZGu"
      },
      "source": [
        "%%writefile test2.txt\n",
        "Hello World!!!"
      ],
      "execution_count": null,
      "outputs": []
    },
    {
      "cell_type": "markdown",
      "metadata": {
        "id": "Nu_DEpYyfBgi"
      },
      "source": [
        "**Python opening a file**"
      ]
    },
    {
      "cell_type": "code",
      "metadata": {
        "id": "nbRWzSMNfExk"
      },
      "source": [
        "my_file=open('test2.txt')\n",
        "my_file"
      ],
      "execution_count": null,
      "outputs": []
    },
    {
      "cell_type": "code",
      "metadata": {
        "id": "pMmiZI2ffE0Q"
      },
      "source": [
        "my_file.read()"
      ],
      "execution_count": null,
      "outputs": []
    },
    {
      "cell_type": "code",
      "metadata": {
        "id": "9A7PMsPXfUbv"
      },
      "source": [
        "my_file.read()\n",
        "\n",
        "#Reading 2nd time wont give any output."
      ],
      "execution_count": null,
      "outputs": []
    },
    {
      "cell_type": "code",
      "metadata": {
        "id": "N-xc5-0dfE3e"
      },
      "source": [
        "my_file.seek(0)"
      ],
      "execution_count": null,
      "outputs": []
    },
    {
      "cell_type": "code",
      "metadata": {
        "id": "iNSkrcOugdxK"
      },
      "source": [
        "my_file.readlines()"
      ],
      "execution_count": null,
      "outputs": []
    },
    {
      "cell_type": "markdown",
      "metadata": {
        "id": "RpX--eAQxwS-"
      },
      "source": [
        "**Writing to a File**"
      ]
    },
    {
      "cell_type": "code",
      "metadata": {
        "id": "BK3pErqNxjVi"
      },
      "source": [
        "#w stands for write\n",
        "my_file=open('test.txt','w+')"
      ],
      "execution_count": 1,
      "outputs": []
    },
    {
      "cell_type": "code",
      "metadata": {
        "colab": {
          "base_uri": "https://localhost:8080/"
        },
        "id": "TPa5Dpg4xjY8",
        "outputId": "fd87cae6-e23d-47d5-81fc-4f6f3746e733"
      },
      "source": [
        "my_file.write(\"This is a new line\")"
      ],
      "execution_count": 2,
      "outputs": [
        {
          "output_type": "execute_result",
          "data": {
            "text/plain": [
              "18"
            ]
          },
          "metadata": {
            "tags": []
          },
          "execution_count": 2
        }
      ]
    },
    {
      "cell_type": "code",
      "metadata": {
        "colab": {
          "base_uri": "https://localhost:8080/"
        },
        "id": "yuPFHuSXyFMm",
        "outputId": "a84fc1ef-7ad2-452a-8901-e6a008d12d2a"
      },
      "source": [
        "my_file.seek(0)"
      ],
      "execution_count": 3,
      "outputs": [
        {
          "output_type": "execute_result",
          "data": {
            "text/plain": [
              "0"
            ]
          },
          "metadata": {
            "tags": []
          },
          "execution_count": 3
        }
      ]
    },
    {
      "cell_type": "code",
      "metadata": {
        "colab": {
          "base_uri": "https://localhost:8080/",
          "height": 35
        },
        "id": "rl7WEVDwyJmm",
        "outputId": "6ddd0736-f70b-4f2b-8c7f-e794b5fd41d0"
      },
      "source": [
        "my_file.read()"
      ],
      "execution_count": 4,
      "outputs": [
        {
          "output_type": "execute_result",
          "data": {
            "application/vnd.google.colaboratory.intrinsic+json": {
              "type": "string"
            },
            "text/plain": [
              "'This is a new line'"
            ]
          },
          "metadata": {
            "tags": []
          },
          "execution_count": 4
        }
      ]
    },
    {
      "cell_type": "markdown",
      "metadata": {
        "id": "OejmlAxS3kih"
      },
      "source": [
        "**Iterating through a File**"
      ]
    },
    {
      "cell_type": "code",
      "metadata": {
        "colab": {
          "base_uri": "https://localhost:8080/"
        },
        "id": "Wx5Ddzfd3pFX",
        "outputId": "b00391c0-5aea-41bd-afb7-06099908488f"
      },
      "source": [
        "%%writefile test.txt\n",
        "First Line\n",
        "Second Line"
      ],
      "execution_count": 6,
      "outputs": [
        {
          "output_type": "stream",
          "text": [
            "Overwriting test.txt\n"
          ],
          "name": "stdout"
        }
      ]
    },
    {
      "cell_type": "code",
      "metadata": {
        "colab": {
          "base_uri": "https://localhost:8080/",
          "height": 35
        },
        "id": "Z2v7sMj34G-R",
        "outputId": "55e76ef3-0724-468a-d166-58c379d3d38d"
      },
      "source": [
        "my_file=open('test.txt')\n",
        "my_file.read()"
      ],
      "execution_count": 7,
      "outputs": [
        {
          "output_type": "execute_result",
          "data": {
            "application/vnd.google.colaboratory.intrinsic+json": {
              "type": "string"
            },
            "text/plain": [
              "'First Line\\nSecond Line'"
            ]
          },
          "metadata": {
            "tags": []
          },
          "execution_count": 7
        }
      ]
    },
    {
      "cell_type": "code",
      "metadata": {
        "colab": {
          "base_uri": "https://localhost:8080/"
        },
        "id": "npaiO1kM4HA_",
        "outputId": "edb776f9-54eb-49a7-d836-c0b94ba2aa16"
      },
      "source": [
        "for line in open('test.txt'):\n",
        "  print(line)"
      ],
      "execution_count": 10,
      "outputs": [
        {
          "output_type": "stream",
          "text": [
            "First Line\n",
            "\n",
            "Second Line\n"
          ],
          "name": "stdout"
        }
      ]
    },
    {
      "cell_type": "markdown",
      "metadata": {
        "id": "TSx4aCN07bsH"
      },
      "source": [
        "**StringIO**: It is a module that implements file-like class that reads and writes a string."
      ]
    },
    {
      "cell_type": "code",
      "metadata": {
        "id": "LPCMZCkb4HEd"
      },
      "source": [
        "from io import StringIO"
      ],
      "execution_count": 12,
      "outputs": []
    },
    {
      "cell_type": "code",
      "metadata": {
        "colab": {
          "base_uri": "https://localhost:8080/"
        },
        "id": "cRDl-Pa_7fXN",
        "outputId": "75ec9ac3-4a99-4601-fdda-7a4e0639ca96"
      },
      "source": [
        "message='This is the first string'\n",
        "type(message)"
      ],
      "execution_count": 14,
      "outputs": [
        {
          "output_type": "execute_result",
          "data": {
            "text/plain": [
              "str"
            ]
          },
          "metadata": {
            "tags": []
          },
          "execution_count": 14
        }
      ]
    },
    {
      "cell_type": "code",
      "metadata": {
        "colab": {
          "base_uri": "https://localhost:8080/",
          "height": 35
        },
        "id": "_oog_4uT8sQs",
        "outputId": "6d6e588e-c8ee-495f-bafc-7c1c076bc959"
      },
      "source": [
        "f=StringIO(message)\n",
        "f.read()"
      ],
      "execution_count": 18,
      "outputs": [
        {
          "output_type": "execute_result",
          "data": {
            "application/vnd.google.colaboratory.intrinsic+json": {
              "type": "string"
            },
            "text/plain": [
              "'This is the first string'"
            ]
          },
          "metadata": {
            "tags": []
          },
          "execution_count": 18
        }
      ]
    },
    {
      "cell_type": "code",
      "metadata": {
        "colab": {
          "base_uri": "https://localhost:8080/"
        },
        "id": "2x3Am2zm7faQ",
        "outputId": "4528c383-5b0c-43d1-e4c8-d59da557c12a"
      },
      "source": [
        "f.write('This is the second string')"
      ],
      "execution_count": 19,
      "outputs": [
        {
          "output_type": "execute_result",
          "data": {
            "text/plain": [
              "25"
            ]
          },
          "metadata": {
            "tags": []
          },
          "execution_count": 19
        }
      ]
    },
    {
      "cell_type": "code",
      "metadata": {
        "colab": {
          "base_uri": "https://localhost:8080/"
        },
        "id": "ZapV0VQ19DQv",
        "outputId": "2915ac5a-67df-4b40-8916-d803526d79ec"
      },
      "source": [
        "f.seek(6)"
      ],
      "execution_count": 20,
      "outputs": [
        {
          "output_type": "execute_result",
          "data": {
            "text/plain": [
              "6"
            ]
          },
          "metadata": {
            "tags": []
          },
          "execution_count": 20
        }
      ]
    },
    {
      "cell_type": "code",
      "metadata": {
        "colab": {
          "base_uri": "https://localhost:8080/",
          "height": 35
        },
        "id": "gf6WKI_o9DUJ",
        "outputId": "3dc296a6-20d0-4bfb-8f33-70b33517593a"
      },
      "source": [
        "f.read()"
      ],
      "execution_count": 21,
      "outputs": [
        {
          "output_type": "execute_result",
          "data": {
            "application/vnd.google.colaboratory.intrinsic+json": {
              "type": "string"
            },
            "text/plain": [
              "'s the first stringThis is the second string'"
            ]
          },
          "metadata": {
            "tags": []
          },
          "execution_count": 21
        }
      ]
    },
    {
      "cell_type": "markdown",
      "metadata": {
        "id": "PllAIWFjdAf6"
      },
      "source": [
        "Types of Polymorphism:\n",
        "\n",
        "1.Method Overloading\n",
        "\n",
        "2.Method Overriding"
      ]
    },
    {
      "cell_type": "markdown",
      "metadata": {
        "id": "k896Wmh_T3PJ"
      },
      "source": [
        "**Method Overloading**\n",
        "\n",
        "Same method name but the arguements are different. It may be the number of arguements or the type of arguements are different.\n",
        "\n"
      ]
    },
    {
      "cell_type": "code",
      "metadata": {
        "id": "El8sONEFT7Zs"
      },
      "source": [
        "def calculate(var1:int,var2:int,operation='+'):\n",
        "   if operation =='+':\n",
        "    return var1+var2\n",
        "   elif operation =='-':\n",
        "    return var1-var2\n",
        "   else:\n",
        "    return var1*var2  \n",
        "\n",
        "calculate(5,2)      "
      ],
      "execution_count": null,
      "outputs": []
    },
    {
      "cell_type": "code",
      "metadata": {
        "id": "2Ct34CDuUUaC"
      },
      "source": [
        "def calculate(var1=str,var2=str,operation=\"+\"):\n",
        "  if operation=='+':\n",
        "    return var1+var2\n",
        "  elif operation=='-':\n",
        "    return var1-var2\n",
        "  else:\n",
        "    return var1*var2\n",
        "\n",
        "calculate('5','3','+')\n",
        "\n",
        "#'-' will not in string, thats why we should use operation that will work."
      ],
      "execution_count": null,
      "outputs": []
    },
    {
      "cell_type": "markdown",
      "metadata": {
        "id": "P_kjfmgDdSRn"
      },
      "source": [
        "**Method Overriding**\n",
        "Same method name and same number of arguements/parameters. But we cant make same method in same class. hence we will use the concept of Inheritance(calling parent class from the child class)."
      ]
    },
    {
      "cell_type": "code",
      "metadata": {
        "id": "aF7QX00AT2pi",
        "colab": {
          "base_uri": "https://localhost:8080/"
        },
        "outputId": "ed03e866-317e-4fae-a7c9-f654f80e4bd1"
      },
      "source": [
        "import math\n",
        "class RAtriangle:\n",
        "  def area(self,b,h):\n",
        "    return (1/2)*b*h\n",
        "\n",
        "class AnyTriangle(RAtriangle):\n",
        "  def area(self,a,b,c):\n",
        "    s=(a+b+c)/2\n",
        "    return math.sqrt(s*(s-a)*(s-b)*(s-c))\n",
        "  \n",
        "obj1=AnyTriangle()\n",
        "print(obj1.area(10,20,25))"
      ],
      "execution_count": null,
      "outputs": [
        {
          "output_type": "stream",
          "text": [
            "94.99177595981665\n"
          ],
          "name": "stdout"
        }
      ]
    },
    {
      "cell_type": "markdown",
      "metadata": {
        "id": "xuNIagkXWKnP"
      },
      "source": [
        "**Method Overloading:**"
      ]
    },
    {
      "cell_type": "code",
      "metadata": {
        "colab": {
          "base_uri": "https://localhost:8080/"
        },
        "id": "9g1rr7gJWDSM",
        "outputId": "95a22e2b-5e39-4d3f-e2ad-dfb3a4bab227"
      },
      "source": [
        "def getArea(L=None,W=None):\n",
        "  if (W==None):\n",
        "    return L*L\n",
        "  else:\n",
        "    return L*W  \n",
        "\n",
        "print(getArea(10))\n",
        "print(getArea(10,20))"
      ],
      "execution_count": null,
      "outputs": [
        {
          "output_type": "stream",
          "text": [
            "100\n",
            "200\n"
          ],
          "name": "stdout"
        }
      ]
    },
    {
      "cell_type": "markdown",
      "metadata": {
        "id": "LyeLHko3ohk7"
      },
      "source": [
        "**Q. What is the pillar of object oriented programming?**\n",
        "\n",
        "1.Inheritance\n",
        "\n",
        "2.Polymorphism\n",
        "\n",
        "3.Encapsulation\n",
        "\n",
        "4.Abstraction"
      ]
    },
    {
      "cell_type": "markdown",
      "metadata": {
        "id": "aOAtlquT_pEU"
      },
      "source": [
        "What is **__init__** function?"
      ]
    },
    {
      "cell_type": "code",
      "metadata": {
        "id": "dsBcOpZmfE5s"
      },
      "source": [
        "def __init__():"
      ],
      "execution_count": null,
      "outputs": []
    },
    {
      "cell_type": "markdown",
      "metadata": {
        "id": "5a1KYMzOAE9G"
      },
      "source": [
        "For example , we have a class with attributes:\n",
        "\n",
        "Class Movie:\n",
        "  title\n",
        "  storyline\n",
        "  poster_image\n",
        "  trailer_youtube\n",
        "\n",
        "1.__init__ function is a reserved function.\n",
        "\n",
        "2.It initializes or creates memory space to remember details of the attributes of the class. For example, in this case title storyline,,poster_image and trailer_youtube."
      ]
    },
    {
      "cell_type": "code",
      "metadata": {
        "id": "k4XkqdiiB6IT"
      },
      "source": [
        "import media\n",
        "def __init__(self):\n",
        "toy_story=media.Movie()"
      ],
      "execution_count": null,
      "outputs": []
    },
    {
      "cell_type": "markdown",
      "metadata": {
        "id": "-C10TT5iRZQz"
      },
      "source": [
        "In this case, self represents the toy_story."
      ]
    },
    {
      "cell_type": "code",
      "metadata": {
        "id": "uaAqGnk3B6L2"
      },
      "source": [
        "class Movie:\n",
        "  def __init__(self,movie_title,movie_storyline,poster_image,trailer_youtube):\n",
        "    self.title=movie_title\n",
        "    self.storyline=movie_storyline\n",
        "    self.poster_image=poster_image\n",
        "    self.trailer_youtube=trailer_youtube"
      ],
      "execution_count": null,
      "outputs": []
    },
    {
      "cell_type": "markdown",
      "metadata": {
        "id": "SnwnK3GPWyHL"
      },
      "source": [
        "**Constructor** (__init__): It initializes automtically when we create object of the class. \n",
        "\n",
        "**Destructor**(__del__): When there is no need of the object in our program, it destroys it to save the memory."
      ]
    },
    {
      "cell_type": "code",
      "metadata": {
        "colab": {
          "base_uri": "https://localhost:8080/"
        },
        "id": "UQJfmew-B6ON",
        "outputId": "eb135401-bda1-4002-de50-1335479a8cbe"
      },
      "source": [
        "#Example:\n",
        "\n",
        "class Game:\n",
        "  player=11\n",
        "\n",
        "  def __init__(self):\n",
        "    print('I am a player!!.')\n",
        "  \n",
        "  def players(self):\n",
        "    print('We currently have ' + str(self.player) + ' players in our team.')\n",
        "\n",
        "  def __del__(self):\n",
        "    print('Object is deleted.')\n",
        "\n",
        "soccers=Game()\n",
        "soccers.players()"
      ],
      "execution_count": 22,
      "outputs": [
        {
          "output_type": "stream",
          "text": [
            "I am a player!!.\n",
            "We currently have 11 players in our team.\n"
          ],
          "name": "stdout"
        }
      ]
    },
    {
      "cell_type": "code",
      "metadata": {
        "colab": {
          "base_uri": "https://localhost:8080/"
        },
        "id": "ARDXWEcBB6bD",
        "outputId": "f846b9d8-dc98-43bd-e616-71d50ac5f9e4"
      },
      "source": [
        "soccers=Game()\n",
        "soccers.players()"
      ],
      "execution_count": 23,
      "outputs": [
        {
          "output_type": "stream",
          "text": [
            "I am a player!!.\n",
            "Object is deleted.\n",
            "We currently have 11 players in our team.\n"
          ],
          "name": "stdout"
        }
      ]
    },
    {
      "cell_type": "code",
      "metadata": {
        "id": "h-IPImd3B6ei"
      },
      "source": [
        ""
      ],
      "execution_count": null,
      "outputs": []
    }
  ]
}